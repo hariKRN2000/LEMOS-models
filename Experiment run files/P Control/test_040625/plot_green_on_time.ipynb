{
 "cells": [
  {
   "cell_type": "code",
   "execution_count": 18,
   "metadata": {},
   "outputs": [],
   "source": [
    "# 📊 Analyze a single well's \"on-time status\" vs time from the BLE log file\n",
    "\n",
    "import matplotlib.pyplot as plt\n",
    "import numpy as np"
   ]
  },
  {
   "cell_type": "code",
   "execution_count": 19,
   "metadata": {},
   "outputs": [],
   "source": [
    "def plot_well_on_times_in_minutes(file_path, well_name, bin_size=600):\n",
    "    # Control wells as defined in the script\n",
    "    ctrl_wells = [\n",
    "        'A11', 'B11', 'C11', 'D11', 'E11', 'F11', 'G11', 'H11',\n",
    "        'H9',  'G9',  'F9',  'E9',  'D9',  'C9',  'B9',  'A9'\n",
    "    ]\n",
    "\n",
    "    if well_name not in ctrl_wells:\n",
    "        raise ValueError(f\"Well {well_name} not in control wells list.\")\n",
    "    well_index = ctrl_wells.index(well_name)\n",
    "\n",
    "    timestamps = []\n",
    "    on_flags = []\n",
    "\n",
    "    with open(file_path, 'r') as file:\n",
    "        lines = file.readlines()\n",
    "\n",
    "    for i in range(0, len(lines), 2):\n",
    "        try:\n",
    "            timestamp_str = lines[i].split(':')[0].strip()\n",
    "            timestamp = float(timestamp_str)\n",
    "            control_str = lines[i].split('Writing')[-1].strip()\n",
    "\n",
    "            well_char = control_str[well_index]\n",
    "            is_on = 1 if well_char == 'g' else 0\n",
    "\n",
    "            timestamps.append(timestamp)\n",
    "            on_flags.append(is_on)\n",
    "        except Exception as e:\n",
    "            continue\n",
    "\n",
    "    # Convert to numpy arrays\n",
    "    timestamps = np.array(timestamps)\n",
    "    on_flags = np.array(on_flags)\n",
    "\n",
    "    # Bin the data\n",
    "    max_time = timestamps[-1]\n",
    "    bins = np.arange(0, max_time + bin_size, bin_size)\n",
    "    bin_centers = (bins[:-1] + bins[1:]) / 2 / 60  # convert to minutes\n",
    "\n",
    "    on_times = []\n",
    "    for start, end in zip(bins[:-1], bins[1:]):\n",
    "        mask = (timestamps >= start) & (timestamps < end)\n",
    "        on_time = np.sum(on_flags[mask]) * 0.5 / 60  # convert to minutes\n",
    "        on_times.append(on_time)\n",
    "\n",
    "    # Plot\n",
    "    plt.figure(figsize=(10, 5))\n",
    "    plt.bar(bin_centers, on_times, width=bin_size/60, align='center', alpha=0.7)\n",
    "    plt.xlabel('Time (minutes)')\n",
    "    plt.ylabel('On-time duration (minutes)')\n",
    "    plt.title(f'On-time durations for well {well_name} in {bin_size/60}-minute bins')\n",
    "    plt.grid(True)\n",
    "    plt.show()"
   ]
  },
  {
   "cell_type": "code",
   "execution_count": 27,
   "metadata": {},
   "outputs": [
    {
     "data": {
      "image/png": "[encoded data removed]",
      "text/plain": [
       "<Figure size 720x360 with 1 Axes>"
      ]
     },
     "metadata": {
      "needs_background": "light"
     },
     "output_type": "display_data"
    }
   ],
   "source": [
    "# Example usage\n",
    "# Provide the full path to your .out file\n",
    "file_path = 'test_040625_bltout.out'\n",
    "well_name = 'D9'  # Change as needed\n",
    "plot_well_on_times_in_minutes(file_path, well_name, bin_size = 600)"
   ]
  }
 ],
 "metadata": {
  "kernelspec": {
   "display_name": "base",
   "language": "python",
   "name": "python3"
  },
  "language_info": {
   "codemirror_mode": {
    "name": "ipython",
    "version": 3
   },
   "file_extension": ".py",
   "mimetype": "text/x-python",
   "name": "python",
   "nbconvert_exporter": "python",
   "pygments_lexer": "ipython3",
   "version": "3.8.8"
  },
  "orig_nbformat": 4
 },
 "nbformat": 4,
 "nbformat_minor": 2
}
