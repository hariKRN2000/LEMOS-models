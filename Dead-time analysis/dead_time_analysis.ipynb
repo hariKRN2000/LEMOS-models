{
 "cells": [
  {
   "cell_type": "markdown",
   "metadata": {},
   "source": [
    "### Analysis of dead-time vs time"
   ]
  },
  {
   "cell_type": "code",
   "execution_count": 1,
   "metadata": {},
   "outputs": [],
   "source": [
    "import numpy as np \n",
    "import matplotlib.pyplot as plt\n",
    "import pandas as pd\n",
    "import lmfit\n",
    "\n",
    "from model_equations_and_simulators.TCS_model_growth_equations import run_TCS_model"
   ]
  },
  {
   "cell_type": "code",
   "execution_count": 2,
   "metadata": {},
   "outputs": [],
   "source": [
    "# Define the simulation timescale \n",
    "\n",
    "t_final = 960 # min \n",
    "N_steps = 960 \n",
    "\n",
    "timepoints = np.linspace(0, t_final, N_steps)"
   ]
  },
  {
   "cell_type": "code",
   "execution_count": 3,
   "metadata": {},
   "outputs": [],
   "source": [
    "# define model parameters \n",
    "\n",
    "p = pd.read_csv('parameters/TCS_model_param_file.csv').to_numpy()\n",
    "p = p[:,2]\n",
    "\n",
    "params = lmfit.Parameters()\n",
    "\n",
    "params.add(name = 'k_green', value = p[0], min = 1e-3, max = 1e4, vary = 1)\n",
    "params.add(name = 'k_red', value = p[1], min = 1e0, max = 1e4, vary = 1)\n",
    "params.add(name = 'b_green', value = p[2], min = 1e-4, max = 1e4, vary = 1)\n",
    "params.add(name = 'b_red', value = p[3], min = 1e0, max = 1e4, vary = 1)\n",
    "\n",
    "params.add(name = 'k_sp_b', value = p[4], min = 1e-3, max = 1e3, vary = 1)\n",
    "params.add(name = 'k_sp_u', value = p[5], min = 1e-3, max = 1e3, vary = 1)\n",
    "\n",
    "params.add(name = 'k_rp_b', value = p[6], min = 1e-3, max = 1e3, vary = 1)\n",
    "params.add(name = 'k_rp_u', value = p[7], min = 1e-3, max = 1e3, vary = 1)\n",
    "\n",
    "params.add(name = 'beta', value = p[8], min = 1e-1, max = 200, vary = 1)\n",
    "params.add(name = 'l0', value = p[9], min = 0, max = 0.5, vary = 1)\n",
    "params.add(name = 'Kc', value = p[10], min = 1e-3, max = 1e3, vary = 1)\n",
    "params.add(name = 'd_m', value = p[11], min = 0.05, max = 0.3, vary = 1)\n",
    "params.add(name = 'k_tl', value = p[12], min = 0.1, max = 5, vary = 1)\n",
    "params.add(name = 'k_tli_b', value = p[13], min = 1e-3, max = 1e3, vary = 1)\n",
    "params.add(name = 'k_tli_u', value = p[14], min = 1e-3, max = 1e3, vary = 1)\n",
    "params.add(name = 'd_p', value = p[15], min = 1e-6, max = 1e-1, vary = 1)\n",
    "params.add(name = 'k_fold', value = p[16], min = 0.05, max = 0.3, vary = 1)\n",
    "params.add(name = 'b_fold', value = p[17], min = 0.1, max = 2, vary = 1)\n",
    "params.add(name = 'n_gamma', value = p[18], min = 0.2, max = 0.9, vary = 1)\n",
    "params.add(name = 'R_max', value = p[19], min = 1e0, max = 1e4, vary = 1)\n",
    "\n",
    "params.add(name = 'S_0', value = p[20], min = 1e-3, max = 1e3, vary = 1)\n",
    "params.add(name = 'R_0', value = p[21], min = 1e-3, max = 1e3, vary = 1)\n",
    "params.add(name = 'Sp_0', value = p[22], min = 1e-3, max = 1e3, vary = 1)\n",
    "params.add(name = 'Rp_0', value = p[23], min = 1e-3, max = 1e3, vary = 1)\n",
    "params.add(name = 'mRNA_0', value = p[24], min = 1e-3, max = 1e3, vary = 1)\n",
    "params.add(name = 'P_0', value = p[25], min = 1e-3, max = 1e3, vary = 1)\n",
    "params.add(name = 'Pm_0', value = p[26], min = 1e-3, max = 1e3, vary = 1)\n",
    "\n",
    "\n",
    "params.add(name = 'k_gr', value = p[27], vary = 0)\n",
    "params.add(name = 'C_max', value = p[28], vary = 0)\n",
    "params.add(name = 'C_0', value = p[29], vary = 0)\n",
    "\n",
    "params.add(name = 'n_tcs', value = p[30], min = 0.1, max = 5, vary = 1)\n",
    "\n",
    "\n",
    "#params.export_to_csv('TCS_params_021225.csv')\n",
    "n_params = len(params.valuesdict().keys())\n",
    "param_dict = params.valuesdict()\n",
    "param_names = list(params.valuesdict().keys())"
   ]
  },
  {
   "cell_type": "code",
   "execution_count": 4,
   "metadata": {},
   "outputs": [],
   "source": [
    "# define initial conditions and solve the ODEs\n",
    "\n",
    "x0 = np.zeros(10)\n",
    "\n",
    "x0[0] = p[20] # S\n",
    "x0[1] = p[22]# Sp\n",
    "x0[2] = p[21] # R\n",
    "x0[3] = p[23] # Rp\n",
    "x0[4] = 0 # Ac\n",
    "x0[5] = p[24] # mRNA\n",
    "x0[6] = 0 # Ctic\n",
    "x0[7] = p[25] # Unfolded Protein \n",
    "x0[8] = p[26] # Folded Protein \n",
    "x0[9] = p[29] # Initial Cell count\n",
    "\n",
    "sol_green = run_TCS_model(x0, timepoints, params, input = 'green')\n",
    "sol_red = run_TCS_model(x0, timepoints, params, input = 'red')\n",
    "sol_dark = run_TCS_model(x0, timepoints, params, input = 'dark')\n",
    "\n",
    "sol_green = sol_green.y.T\n",
    "sol_red = sol_red.y.T\n",
    "sol_dark = sol_dark.y.T"
   ]
  },
  {
   "cell_type": "code",
   "execution_count": 5,
   "metadata": {},
   "outputs": [
    {
     "data": {
      "image/png": "[encoded data removed]",
      "text/plain": [
       "<Figure size 432x216 with 1 Axes>"
      ]
     },
     "metadata": {
      "needs_background": "light"
     },
     "output_type": "display_data"
    }
   ],
   "source": [
    "# Plot protein profile (sanity check for the model)\n",
    "\n",
    "fig, ax = plt.subplots(1,1, figsize = (6,3))\n",
    "\n",
    "\n",
    "ax.plot(timepoints, sol_green[:,8], 'green', label = 'Green Light Only')\n",
    "ax.plot(timepoints, sol_red[:,8], 'red', label = 'Red Light Only')\n",
    "ax.plot(timepoints, sol_dark[:,8], 'black', label = 'Dark')\n",
    "ax.set_xlabel('Time (min)', fontsize = 15); ax.set_ylabel('Protein Abundance', fontsize = 15)\n",
    "ax.set_xlim((0)); ax.set_ylim((0))\n",
    "ax.legend(loc = 'best') ; ax.grid(True)"
   ]
  },
  {
   "cell_type": "code",
   "execution_count": 6,
   "metadata": {},
   "outputs": [],
   "source": [
    "max_green_model = np.max(sol_green[:,8])\n",
    "\n",
    "def simulate_step_input(input = 'green', time = 600, init_input = 'dark'): \n",
    "    \"\"\"Function to simulate step input response\"\"\"\n",
    "\n",
    "    if time > t_final: \n",
    "        return \"Please enter valid time\"\n",
    "    \n",
    "    else: \n",
    "\n",
    "        i = int(len(timepoints) * time/t_final)\n",
    "\n",
    "        sol1 = run_TCS_model(x0, timepoints[:i], params, input = init_input)\n",
    "\n",
    "        x0_new = sol1.y[:,-1]\n",
    "\n",
    "        sol2 = run_TCS_model(x0_new, timepoints[i:], params, input = input)\n",
    "\n",
    "        sol = np.concatenate((sol1.y.T, sol2.y.T))\n",
    "\n",
    "        return sol\n",
    "    \n",
    "    \n",
    "def estimate_dead_time(profile_no_step, profile_with_step, time, step_input_time, threshold = 0.1):\n",
    "    \"\"\"\n",
    "    Estimate the dead time using scaled delta method.\n",
    "    \n",
    "    Parameters:\n",
    "    - profile_no_step: The protein abundance profile without step input.\n",
    "    - profile_with_step: The protein abundance profile with step input.\n",
    "    - time: The time points corresponding to the profiles.\n",
    "    - step_input_time: The time at which the step input is applied.\n",
    "    - threshold: The percentage threshold beyond which the change is considered significant.\n",
    "    \n",
    "    Returns:\n",
    "    - dead_time: The estimated dead time.\n",
    "    \"\"\"\n",
    "    # Compute delta (difference between step and no-step profile)\n",
    "    delta = np.abs(profile_with_step - profile_no_step)\n",
    "\n",
    "    # Find the signal value at step input time\n",
    "    step_input_index = (np.abs(time - step_input_time)).argmin()\n",
    "    signal_value_at_step = profile_no_step[step_input_index]\n",
    "\n",
    "    # Compute the scaled delta (percentage change)\n",
    "    scaled_delta = (delta / signal_value_at_step) * 100  # Convert to percentage\n",
    "    #scaled_delta = (delta / max_green_model) * 100  # Convert to percentage\n",
    "\n",
    "    # Identify when the scaled delta first exceeds the threshold\n",
    "    exceed_indices = np.where(scaled_delta > threshold)[0]\n",
    "\n",
    "    if len(exceed_indices) == 0:\n",
    "        dead_time = 0  # No significant change detected\n",
    "    else:\n",
    "        dead_time_index = exceed_indices[0]\n",
    "        dead_time = time[dead_time_index] - step_input_time\n",
    "\n",
    "    return dead_time"
   ]
  },
  {
   "cell_type": "code",
   "execution_count": 7,
   "metadata": {},
   "outputs": [
    {
     "name": "stderr",
     "output_type": "stream",
     "text": [
      "/Users/harikrishnan/Library/CloudStorage/OneDrive-TexasA&MUniversity/Jaiswal, Bhavya's files - LEMOS/TCS New Models - HRN-BJ-Expts/To GitHub/Dead-time analysis/model_equations_and_simulators/TCS_model_growth_equations.py:59: RuntimeWarning: invalid value encountered in power\n",
      "  y_resource = np.power(y, n_gamma)\n",
      "/Users/harikrishnan/Library/CloudStorage/OneDrive-TexasA&MUniversity/Jaiswal, Bhavya's files - LEMOS/TCS New Models - HRN-BJ-Expts/To GitHub/Dead-time analysis/model_equations_and_simulators/TCS_model_growth_equations.py:60: RuntimeWarning: invalid value encountered in power\n",
      "  y_rate = np.power(y, n_gamma)\n"
     ]
    }
   ],
   "source": [
    "# Simulate different trajectories with varying step input time\n",
    "\n",
    "N_trajectories = 20\n",
    "t_final_step = 360\n",
    "time_step_array = np.linspace(10, t_final_step, N_trajectories)\n",
    "\n",
    "result_array = np.zeros((len(timepoints), len(x0), N_trajectories, 2))\n",
    "\n",
    "for i in range(N_trajectories): \n",
    "    result_array[:,:,i,0] = simulate_step_input(input = 'red', time = time_step_array[i], init_input = 'green')\n",
    "    result_array[:,:,i,1] = simulate_step_input(input = 'green', time = time_step_array[i], init_input = 'green')"
   ]
  },
  {
   "cell_type": "code",
   "execution_count": 8,
   "metadata": {},
   "outputs": [
    {
     "data": {
      "image/png": "[encoded data removed]",
      "text/plain": [
       "<Figure size 600x435 with 1 Axes>"
      ]
     },
     "metadata": {
      "needs_background": "light"
     },
     "output_type": "display_data"
    }
   ],
   "source": [
    "# Publication figure \n",
    "\n",
    "# Estimate the dead time in each case by varying input time \n",
    "dead_time_result_array = np.zeros(N_trajectories)\n",
    "#tshold = np.max(sol_green[:,7]) * 532/29102 * 1\n",
    "\n",
    "for i in range(N_trajectories):\n",
    "    dead_time_result_array[i] = estimate_dead_time(result_array[:,8, i, 1], result_array[:,8, i, 0], timepoints, int(time_step_array[i]))\n",
    "\n",
    "\n",
    "plt.rcParams.update({\n",
    "    'font.family': 'Arial',\n",
    "    'font.size': 7,\n",
    "    'axes.labelsize': 7,\n",
    "    'axes.titlesize': 7,\n",
    "    'legend.fontsize': 6\n",
    "})\n",
    "tick_fontsize = 7\n",
    "\n",
    "# Initialize figure\n",
    "fig, ax = plt.subplots(figsize=(2, 1.45), dpi=300)\n",
    "\n",
    "# Dead time computation\n",
    "dead_time_result_array = np.zeros(N_trajectories)\n",
    "for i in range(N_trajectories):\n",
    "    dead_time_result_array[i] = estimate_dead_time(\n",
    "        result_array[:, 8, i, 1],\n",
    "        result_array[:, 8, i, 0],\n",
    "        timepoints,\n",
    "        int(time_step_array[i])\n",
    "    )\n",
    "\n",
    "# Scatter plot\n",
    "ax.scatter(time_step_array, dead_time_result_array, color='blue', s = 0.5)\n",
    "#ax.plot(time_step_array, dead_time_result_array, color='blue', linewidth = 1)\n",
    "\n",
    "# Axis labels\n",
    "ax.set_xlabel('Step Input Time (min)', labelpad=4)\n",
    "ax.set_ylabel('Dead Time (min)', labelpad=4)\n",
    "\n",
    "# Grid\n",
    "ax.grid(True, linestyle=':', linewidth=0.5, alpha=0.7)\n",
    "\n",
    "# Ticks\n",
    "ax.tick_params(axis='both', which='major', labelsize=tick_fontsize, direction='out', length=3, width=0.5)\n",
    "\n",
    "# Spine control\n",
    "spine_width = 0.5\n",
    "for spine in ['top', 'right', 'bottom', 'left']:\n",
    "    ax.spines[spine].set_visible(True)\n",
    "    ax.spines[spine].set_linewidth(spine_width)\n",
    "\n",
    "# Layout and save\n",
    "plt.tight_layout()\n",
    "#plt.savefig('figures/f. dead_time_variation_green_to_red.svg', format='svg', dpi=300, bbox_inches='tight', transparent=True)"
   ]
  }
 ],
 "metadata": {
  "kernelspec": {
   "display_name": "base",
   "language": "python",
   "name": "python3"
  },
  "language_info": {
   "codemirror_mode": {
    "name": "ipython",
    "version": 3
   },
   "file_extension": ".py",
   "mimetype": "text/x-python",
   "name": "python",
   "nbconvert_exporter": "python",
   "pygments_lexer": "ipython3",
   "version": "3.8.8"
  },
  "orig_nbformat": 4
 },
 "nbformat": 4,
 "nbformat_minor": 2
}
