{
 "cells": [
  {
   "cell_type": "markdown",
   "metadata": {},
   "source": [
    "## Optogenetic Two Component System Control Model\n",
    "This file demonstrates the closed loop simulation (P-control regulation) of the optogenetic two component system using minimal model"
   ]
  },
  {
   "cell_type": "code",
   "execution_count": 1,
   "metadata": {},
   "outputs": [],
   "source": [
    "# Import all the needed modules here \n",
    "\n",
    "import numpy as np\n",
    "import pandas as pd\n",
    "import matplotlib.pyplot as plt\n",
    "import lmfit\n",
    "\n",
    "\n",
    "# run_constant_3eqn is the simulator that runs the open loop experiment using the minimal model\n",
    "from model_equations_and_simulators.run_constant_3eqn import run_constant\n",
    "# run_p_control_3eqn is the simulator that runs the closed loop experiment (P-control) using the minimal model\n",
    "from model_equations_and_simulators.run_p_control_3eqn import run_p_control\n"
   ]
  },
  {
   "cell_type": "code",
   "execution_count": 2,
   "metadata": {},
   "outputs": [],
   "source": [
    "# %%\n",
    "# Load experimental fluorescence datasets\n",
    "data1 = pd.read_csv('experiment_data/P-FL_OD_run_data_042325.csv')\n",
    "data2 = pd.read_csv('experiment_data/P-FL_OD_run_data_040625.csv')\n",
    "\n",
    "# Extract experimental replicates\n",
    "P1_data1 = data1[['SP1_1', 'SP1_2', 'SP1_3', 'SP1_4', 'SP1_5', 'SP1_6']].to_numpy()\n",
    "P2_data1 = data1[['SP2_1', 'SP2_2', 'SP2_3', 'SP2_4', 'SP2_5', 'SP2_6']].to_numpy()\n",
    "\n",
    "P1_data2 = data2[['SP1_1', 'SP1_2', 'SP1_3']].to_numpy()\n",
    "P2_data2 = data2[['SP2_1', 'SP2_2', 'SP2_3']].to_numpy()\n",
    "\n",
    "green_data1 = data1[['G1']].to_numpy()\n",
    "green_data2 = data2[['G1', 'G2', 'G3']].to_numpy()\n",
    "red_data1 = data1[['R1']].to_numpy()\n",
    "red_data2 = data2[['R1', 'R2', 'R3']].to_numpy()\n",
    "\n",
    "# Truncate all data to shared minimum length\n",
    "min_len = min(P1_data1.shape[0], P1_data2.shape[0])\n",
    "P1_data1 = P1_data1[:min_len]; P2_data1 = P2_data1[:min_len]\n",
    "P1_data2 = P1_data2[:min_len]; P2_data2 = P2_data2[:min_len]\n",
    "green_data1 = green_data1[:min_len]; green_data2 = green_data2[:min_len]\n",
    "red_data1 = red_data1[:min_len]; red_data2 = red_data2[:min_len]\n"
   ]
  },
  {
   "cell_type": "code",
   "execution_count": 3,
   "metadata": {},
   "outputs": [],
   "source": [
    "# %%\n",
    "# Merge all experimental replicates\n",
    "P1_all = np.hstack((P1_data1, P1_data2))\n",
    "P2_all = np.hstack((P2_data1, P2_data2))\n",
    "green_all = np.hstack((green_data1, green_data2))\n",
    "red_all = np.hstack((red_data1, red_data2))\n",
    "\n",
    "# Compute means and standard deviations\n",
    "P1_mean = np.mean(P1_all, axis=1)\n",
    "P1_std = np.std(P1_all, axis=1)\n",
    "P2_mean = np.mean(P2_all, axis=1)\n",
    "P2_std = np.std(P2_all, axis=1)\n",
    "green_mean = np.mean(green_all, axis=1)\n",
    "green_std = np.std(green_all, axis=1)\n",
    "red_mean = np.mean(red_all, axis=1)\n",
    "red_std = np.std(red_all, axis=1)\n"
   ]
  },
  {
   "cell_type": "code",
   "execution_count": 4,
   "metadata": {},
   "outputs": [],
   "source": [
    "# Define simulation parameters\n",
    "# Time parameters\n",
    "interval = 10\n",
    "time = np.arange(interval, (min_len + 1) * interval, interval)\n",
    "t_final = 16 * 60\n",
    "\n",
    "# Setpoints from experiments\n",
    "st_pt_1 = 11500\n",
    "st_pt_2 = 18500\n",
    "\n",
    "# Normalize scale using green max\n",
    "green_max = np.max(green_mean)\n",
    "\n",
    "# Define color dictionary\n",
    "color_dict = {\n",
    "    'set_point_1': '#A06AAF', \n",
    "    'set_point_2': '#F29935',\n",
    "    'green': '#74B867',\n",
    "    'red': '#D94633'\n",
    "}\n"
   ]
  },
  {
   "cell_type": "code",
   "execution_count": 5,
   "metadata": {},
   "outputs": [],
   "source": [
    "# Parameter setup\n",
    "p = pd.read_csv('parameters/3_eqn_model_params_file.csv').to_numpy()\n",
    "p = p[:,2]\n",
    "\n",
    "params = lmfit.Parameters()\n",
    "\n",
    "params.add('k_tx', value=p[0], min=0.1, max=20)\n",
    "params.add('d_m', value=p[1], min=0.05, max=0.5)\n",
    "params.add('k_tl', value=p[2], min=0.1, max=5)\n",
    "params.add('Kc', value=p[3], min=0.001, max=1000)\n",
    "params.add('l0', value=p[4], min=0.001, max=0.5)\n",
    "params.add('n_gamma', value=p[5], min=0.2, max=0.9)\n",
    "params.add('d_p', value=p[6], min=1e-6, max=0.001)\n",
    "params.add('k_gr', value=p[7], min=0.001, max=1.0, vary = False)\n",
    "params.add('Ac_green', value=p[8], min=1, max=100)\n",
    "params.add('Ac_dark', value=p[9], min=1, max=100)\n",
    "params.add('Ac_red', value=p[10], min=1e-3, max=100)\n",
    "params.add('C_max', value=p[11], vary=False)\n",
    "params.add('C_0', value=p[12], vary=False)\n",
    "params.add('M_0', value=p[13], min = 0, max = 1e3)\n",
    "params.add('P_0', value=p[14], min = 0, max = 1e3)\n",
    "\n",
    "# Initial conditions: [M, P, C]\n",
    "x0 = np.array([params['M_0'].value, params['P_0'].value, params['C_0'].value])"
   ]
  },
  {
   "cell_type": "code",
   "execution_count": 6,
   "metadata": {},
   "outputs": [],
   "source": [
    "# Import dead_time data: \n",
    "\n",
    "dead_time_data = pd.read_csv('Dead_time_With_growth_variation.csv')\n",
    "time_step_array = dead_time_data['Time'].to_numpy()\n",
    "dead_times = dead_time_data['Dead_time'].to_numpy()"
   ]
  },
  {
   "cell_type": "code",
   "execution_count": 7,
   "metadata": {},
   "outputs": [],
   "source": [
    "# Simulate constant inputs\n",
    "time_green, _, sol_green = run_constant(t_final, x0, params, constant_input = 'green')\n",
    "time_red, _, sol_red = run_constant(t_final, x0, params, constant_input = 'red')\n",
    "\n",
    "st_pt_1_model = st_pt_1 * (np.max(sol_green[:,1]))/green_max\n",
    "st_pt_2_model = st_pt_2 * (np.max(sol_green[:,1]))/green_max\n",
    "\n",
    "# Simulate p-control inputs\n",
    "# Controller gain\n",
    "gain = 0.064 * (np.max(green_mean)/np.max(sol_green[:,1])) * (1/60)\n",
    "\n",
    "dead_time_inc = 0  # Set to 0 if you want 0 deadtime. Set to 1 if you want to add dead-time\n",
    "# Simulate p-control setpoint 1\n",
    "t_p1, pctrl_1, set_pt_1, green_time_log_1 = run_p_control(t_final, st_pt_1_model, gain, x0, dead_times, time_step_array, params, dead_time_inc = dead_time_inc)\n",
    "# Simulate p-control setpoint 2\n",
    "t_p2, pctrl_2, set_pt_2, green_time_log_2 = run_p_control(t_final, st_pt_2_model, gain, x0, dead_times, time_step_array, params, dead_time_inc = dead_time_inc)"
   ]
  },
  {
   "cell_type": "code",
   "execution_count": 8,
   "metadata": {},
   "outputs": [],
   "source": [
    "# Normalize against peak of green simulation under constant input\n",
    "green_peak = np.max(sol_green[:, 1])\n",
    "# green_peak = 1\n",
    "\n",
    "green_sim_norm = sol_green[:, 1] / green_peak\n",
    "red_sim_norm = sol_red[:, 1] / green_peak\n",
    "pctrl_1_norm = np.array(pctrl_1) / green_peak\n",
    "pctrl_2_norm = np.array(pctrl_2) / green_peak\n",
    "\n",
    "# Setpoint lines (normalized)\n",
    "set_pt_1_norm = st_pt_1 / green_max\n",
    "set_pt_2_norm = st_pt_2 / green_max"
   ]
  },
  {
   "cell_type": "code",
   "execution_count": 9,
   "metadata": {},
   "outputs": [
    {
     "data": {
      "image/png": "[encoded data removed]",
      "text/plain": [
       "<Figure size 600x450 with 1 Axes>"
      ]
     },
     "metadata": {
      "needs_background": "light"
     },
     "output_type": "display_data"
    }
   ],
   "source": [
    "# Typography and layout\n",
    "plt.rcParams.update({\n",
    "    'font.family': 'Arial',\n",
    "    'font.size': 7,\n",
    "    'axes.labelsize': 7,\n",
    "    'axes.titlesize': 7,\n",
    "    'legend.fontsize': 6\n",
    "})\n",
    "tick_fontsize = 7\n",
    "\n",
    "fig, ax = plt.subplots(figsize=(2, 1.5), dpi=300)\n",
    "lwd = 1\n",
    "\n",
    "# Model predictions\n",
    "ax.plot(time_green, green_sim_norm, color='green', linestyle='-', linewidth=lwd, label='Green Constant')\n",
    "ax.plot(time_red, red_sim_norm, color='red', linestyle='-', linewidth=lwd, label='Red Constant')\n",
    "ax.plot(t_p1, pctrl_1_norm, color=color_dict['set_point_1'], linewidth=lwd, label='P-Control Setpoint 1')\n",
    "ax.plot(t_p2, pctrl_2_norm, color=color_dict['set_point_2'], linewidth=lwd, label='P-Control Setpoint 2')\n",
    "\n",
    "# Setpoint lines\n",
    "ax.axhline(y=set_pt_1_norm, color=color_dict['set_point_1'], linestyle='--', linewidth=lwd)\n",
    "ax.axhline(y=set_pt_2_norm, color=color_dict['set_point_2'], linestyle='--', linewidth=lwd)\n",
    "\n",
    "# Axes\n",
    "ax.set_xlabel('Time (min)')\n",
    "ax.set_ylabel('Scaled sfGFP')\n",
    "ax.set_xlim(0, 960)\n",
    "ax.set_ylim(0, 1.1)\n",
    "ax.set_xticks([0, 200, 400, 600, 800])\n",
    "ax.set_yticks([0, 0.5, 1.0])\n",
    "\n",
    "# Legend\n",
    "#ax.legend(loc='center left', bbox_to_anchor=(1.02, 0.5), frameon=False)\n",
    "\n",
    "# Grid\n",
    "#ax.grid(True, linestyle='--', linewidth=0.5, alpha=0.6)\n",
    "\n",
    "# Spine control\n",
    "spine_width = 0.5\n",
    "for spine in ['top', 'right', 'bottom', 'left']:\n",
    "    ax.spines[spine].set_visible(True)\n",
    "    ax.spines[spine].set_linewidth(spine_width)\n",
    "\n",
    "# Ticks\n",
    "ax.tick_params(axis='both', which='major', labelsize=tick_fontsize)\n",
    "\n",
    "# Layout and export\n",
    "fig.subplots_adjust(right=0.75)\n",
    "plt.tight_layout()\n",
    "#plt.savefig('figures/g. p_control_3eqn_model_no_deadtime.svg', format='svg', dpi=300, bbox_inches='tight', transparent=True)"
   ]
  },
  {
   "cell_type": "code",
   "execution_count": 10,
   "metadata": {},
   "outputs": [
    {
     "data": {
      "text/plain": [
       "(1.7697392357379937, -1.7704399055806732)"
      ]
     },
     "execution_count": 10,
     "metadata": {},
     "output_type": "execute_result"
    }
   ],
   "source": [
    "# Print the overshoot error % to compare with experiments\n",
    "overshoot_error_1 = 100 * (np.max(pctrl_1_norm) - set_pt_1_norm) / set_pt_1_norm\n",
    "overshoot_error_2 = 100 * (np.max(pctrl_2_norm) - set_pt_2_norm)/ set_pt_2_norm\n",
    "\n",
    "overshoot_error_1, overshoot_error_2"
   ]
  }
 ],
 "metadata": {
  "kernelspec": {
   "display_name": "base",
   "language": "python",
   "name": "python3"
  },
  "language_info": {
   "codemirror_mode": {
    "name": "ipython",
    "version": 3
   },
   "file_extension": ".py",
   "mimetype": "text/x-python",
   "name": "python",
   "nbconvert_exporter": "python",
   "pygments_lexer": "ipython3",
   "version": "3.8.8"
  },
  "orig_nbformat": 4
 },
 "nbformat": 4,
 "nbformat_minor": 2
}
